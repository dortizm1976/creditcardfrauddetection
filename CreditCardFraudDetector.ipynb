{
 "cells": [
  {
   "cell_type": "code",
   "execution_count": null,
   "id": "af98a314",
   "metadata": {},
   "outputs": [],
   "source": [
    "# data analysis and wrangling\n",
    "import pandas as pd\n",
    "import numpy as np\n",
    "import random as rnd\n",
    "\n",
    "# visualization\n",
    "import seaborn as sns\n",
    "import matplotlib.pyplot as plt\n",
    "%matplotlib inline\n",
    "from sklearn.model_selection import train_test_split\n",
    "from sklearn.preprocessing import LabelEncoder\n",
    "#machine learning\n",
    "from sklearn.ensemble import RandomForestClassifier\n",
    "from sklearn.linear_model import LogisticRegression\n",
    "from sklearn.svm import SVC, LinearSVC"
   ]
  },
  {
   "cell_type": "code",
   "execution_count": null,
   "id": "5dd59891",
   "metadata": {},
   "outputs": [],
   "source": [
    "data=pd.read_csv('./Data/application_data.csv')"
   ]
  },
  {
   "cell_type": "markdown",
   "id": "a3caa87c",
   "metadata": {},
   "source": [
    "## Data Analysis"
   ]
  },
  {
   "cell_type": "code",
   "execution_count": null,
   "id": "f4cc136e",
   "metadata": {},
   "outputs": [],
   "source": [
    "data.head()"
   ]
  },
  {
   "cell_type": "code",
   "execution_count": null,
   "id": "f3dee45d",
   "metadata": {},
   "outputs": [],
   "source": [
    "data.shape"
   ]
  },
  {
   "cell_type": "code",
   "execution_count": null,
   "id": "2a5d7f61",
   "metadata": {},
   "outputs": [],
   "source": [
    "data.dtypes.unique()"
   ]
  },
  {
   "cell_type": "code",
   "execution_count": null,
   "id": "eb5e2589",
   "metadata": {},
   "outputs": [],
   "source": []
  },
  {
   "cell_type": "code",
   "execution_count": null,
   "id": "472c631b",
   "metadata": {},
   "outputs": [],
   "source": [
    "data.isnull().value_counts()"
   ]
  },
  {
   "cell_type": "code",
   "execution_count": null,
   "id": "2967dc5a",
   "metadata": {},
   "outputs": [],
   "source": [
    "obj_cols = data.select_dtypes(include='object').columns\n",
    "obj_cols"
   ]
  },
  {
   "cell_type": "code",
   "execution_count": null,
   "id": "3bee6e6c",
   "metadata": {},
   "outputs": [],
   "source": [
    "obj_cols.shape"
   ]
  },
  {
   "cell_type": "code",
   "execution_count": null,
   "id": "d6e1d673",
   "metadata": {},
   "outputs": [],
   "source": [
    "int_cols = data.select_dtypes(include='int64').columns\n",
    "int_cols"
   ]
  },
  {
   "cell_type": "code",
   "execution_count": null,
   "id": "d78ce504",
   "metadata": {},
   "outputs": [],
   "source": [
    "int_cols.shape"
   ]
  },
  {
   "cell_type": "code",
   "execution_count": null,
   "id": "3328924c",
   "metadata": {},
   "outputs": [],
   "source": [
    "float_cols = data.select_dtypes(include='float64').columns\n",
    "float_cols"
   ]
  },
  {
   "cell_type": "code",
   "execution_count": null,
   "id": "d45bde63",
   "metadata": {},
   "outputs": [],
   "source": [
    "float_cols.shape"
   ]
  },
  {
   "cell_type": "code",
   "execution_count": null,
   "id": "814c8b75",
   "metadata": {},
   "outputs": [],
   "source": [
    "count_float_cols = len(float_cols) \n",
    "count_int_cols = len(int_cols) \n",
    "count_obj_cols = len(obj_cols)\n",
    "print(count_float_cols)\n",
    "print(count_int_cols)\n",
    "print(count_obj_cols)\n",
    "print(count_float_cols+count_int_cols+count_obj_cols)"
   ]
  },
  {
   "cell_type": "code",
   "execution_count": null,
   "id": "72554c30",
   "metadata": {},
   "outputs": [],
   "source": [
    "{column: len(data[column].unique()) for column in data[float_cols].columns}"
   ]
  },
  {
   "cell_type": "code",
   "execution_count": null,
   "id": "b1a1e561",
   "metadata": {},
   "outputs": [],
   "source": [
    "{column: len(data[column].unique()) for column in data[obj_cols].columns}"
   ]
  },
  {
   "cell_type": "code",
   "execution_count": null,
   "id": "09b8fb97",
   "metadata": {},
   "outputs": [],
   "source": [
    "for col in obj_cols :\n",
    "    print(\"--------------------------------------------------\")\n",
    "    print(col)\n",
    "    print(data[col].unique())\n",
    "    print(\"--------------------------------------------------\")"
   ]
  },
  {
   "cell_type": "code",
   "execution_count": null,
   "id": "cf172c9e",
   "metadata": {},
   "outputs": [],
   "source": [
    "for col in int_cols :\n",
    "    print(\"--------------------------------------------------\")\n",
    "    print(col)\n",
    "    print(data[col].unique())\n",
    "    print(\"--------------------------------------------------\")"
   ]
  },
  {
   "cell_type": "code",
   "execution_count": null,
   "id": "fb4e3cbb",
   "metadata": {},
   "outputs": [],
   "source": [
    "code_gender = data['CODE_GENDER'].value_counts()"
   ]
  },
  {
   "cell_type": "code",
   "execution_count": null,
   "id": "2b2d012e",
   "metadata": {},
   "outputs": [],
   "source": [
    "code_gender.plot(kind='bar')"
   ]
  },
  {
   "cell_type": "code",
   "execution_count": null,
   "id": "25aeae3c",
   "metadata": {},
   "outputs": [],
   "source": [
    "data.drop(['EXT_SOURCE_1', 'EXT_SOURCE_2', 'EXT_SOURCE_3', 'APARTMENTS_AVG',\n",
    "       'BASEMENTAREA_AVG', 'YEARS_BEGINEXPLUATATION_AVG', 'YEARS_BUILD_AVG',\n",
    "       'COMMONAREA_AVG', 'ELEVATORS_AVG', 'ENTRANCES_AVG', 'FLOORSMAX_AVG',\n",
    "       'FLOORSMIN_AVG', 'LANDAREA_AVG', 'LIVINGAPARTMENTS_AVG','NAME_CONTRACT_TYPE',\n",
    "       'LIVINGAREA_AVG', 'NONLIVINGAPARTMENTS_AVG', 'NONLIVINGAREA_AVG',\n",
    "       'APARTMENTS_MODE', 'BASEMENTAREA_MODE', 'YEARS_BEGINEXPLUATATION_MODE',\n",
    "       'YEARS_BUILD_MODE', 'COMMONAREA_MODE', 'ELEVATORS_MODE','WEEKDAY_APPR_PROCESS_START',\n",
    "       'ENTRANCES_MODE', 'FLOORSMAX_MODE', 'FLOORSMIN_MODE', 'LANDAREA_MODE',\n",
    "       'LIVINGAPARTMENTS_MODE', 'LIVINGAREA_MODE', 'NONLIVINGAPARTMENTS_MODE',\n",
    "       'NONLIVINGAREA_MODE', 'APARTMENTS_MEDI', 'BASEMENTAREA_MEDI','OCCUPATION_TYPE',\n",
    "       'YEARS_BEGINEXPLUATATION_MEDI', 'YEARS_BUILD_MEDI', 'COMMONAREA_MEDI',\n",
    "       'ELEVATORS_MEDI', 'ENTRANCES_MEDI', 'FLOORSMAX_MEDI', 'FLOORSMIN_MEDI',\n",
    "       'LANDAREA_MEDI', 'LIVINGAPARTMENTS_MEDI', 'LIVINGAREA_MEDI',\n",
    "       'NONLIVINGAPARTMENTS_MEDI', 'NONLIVINGAREA_MEDI', 'TOTALAREA_MODE'],axis=1,inplace=True)"
   ]
  },
  {
   "cell_type": "code",
   "execution_count": null,
   "id": "b0c91fd2",
   "metadata": {},
   "outputs": [],
   "source": [
    "data.columns"
   ]
  },
  {
   "cell_type": "code",
   "execution_count": null,
   "id": "55ea6ca7",
   "metadata": {},
   "outputs": [],
   "source": [
    "data.shape"
   ]
  },
  {
   "cell_type": "code",
   "execution_count": null,
   "id": "197e1ac5",
   "metadata": {},
   "outputs": [],
   "source": [
    "data.drop([\"CODE_GENDER\",\"FLAG_OWN_CAR\",\"FLAG_OWN_REALTY\",\"CNT_CHILDREN\",\"NAME_EDUCATION_TYPE\",\"NAME_FAMILY_STATUS\",\n",
    "         \"NAME_HOUSING_TYPE\",\"REGION_POPULATION_RELATIVE\",\"DAYS_BIRTH\",\"DAYS_EMPLOYED\",\"DAYS_REGISTRATION\",\"DAYS_ID_PUBLISH\",\"OWN_CAR_AGE\",\"FLAG_MOBIL\",\n",
    "         \"FLAG_EMP_PHONE\",\"FLAG_WORK_PHONE\",\"FLAG_CONT_MOBILE\",\"FLAG_PHONE\",\"FLAG_EMAIL\",\"FLAG_EMAIL\",\"CNT_FAM_MEMBERS\",\"REGION_RATING_CLIENT\",\n",
    "         \"REGION_RATING_CLIENT_W_CITY\",\"REG_REGION_NOT_LIVE_REGION\",\"REG_REGION_NOT_WORK_REGION\",\"NAME_TYPE_SUITE\",\n",
    "         \"LIVE_REGION_NOT_WORK_REGION\",\"REG_CITY_NOT_LIVE_CITY\",\"REG_CITY_NOT_WORK_CITY\",\"LIVE_CITY_NOT_WORK_CITY\"],axis=1,inplace=True)"
   ]
  },
  {
   "cell_type": "code",
   "execution_count": null,
   "id": "370ee28c",
   "metadata": {},
   "outputs": [],
   "source": [
    "data.drop(['FONDKAPREMONT_MODE', 'HOUSETYPE_MODE',\n",
    "       'WALLSMATERIAL_MODE', 'EMERGENCYSTATE_MODE', 'OBS_30_CNT_SOCIAL_CIRCLE',\n",
    "       'DEF_30_CNT_SOCIAL_CIRCLE', 'OBS_60_CNT_SOCIAL_CIRCLE',\n",
    "       'DEF_60_CNT_SOCIAL_CIRCLE', 'DAYS_LAST_PHONE_CHANGE', 'FLAG_DOCUMENT_2',\n",
    "       'FLAG_DOCUMENT_3', 'FLAG_DOCUMENT_4', 'FLAG_DOCUMENT_5',\n",
    "       'FLAG_DOCUMENT_6', 'FLAG_DOCUMENT_7', 'FLAG_DOCUMENT_8',\n",
    "       'FLAG_DOCUMENT_9', 'FLAG_DOCUMENT_10', 'FLAG_DOCUMENT_11',\n",
    "       'FLAG_DOCUMENT_12', 'FLAG_DOCUMENT_13', 'FLAG_DOCUMENT_14',\n",
    "       'FLAG_DOCUMENT_15', 'FLAG_DOCUMENT_16', 'FLAG_DOCUMENT_17',\n",
    "       'FLAG_DOCUMENT_18', 'FLAG_DOCUMENT_19', 'FLAG_DOCUMENT_20',\n",
    "       'FLAG_DOCUMENT_21', 'AMT_REQ_CREDIT_BUREAU_HOUR','AMT_REQ_CREDIT_BUREAU_DAY', 'AMT_REQ_CREDIT_BUREAU_WEEK',\n",
    "       'AMT_REQ_CREDIT_BUREAU_MON', 'AMT_REQ_CREDIT_BUREAU_QRT',\n",
    "'AMT_REQ_CREDIT_BUREAU_YEAR'],axis=1,inplace=True)"
   ]
  },
  {
   "cell_type": "code",
   "execution_count": null,
   "id": "0fcb714f",
   "metadata": {},
   "outputs": [],
   "source": [
    "data.columns"
   ]
  },
  {
   "cell_type": "code",
   "execution_count": null,
   "id": "88f8168f",
   "metadata": {},
   "outputs": [],
   "source": [
    "data.shape"
   ]
  },
  {
   "cell_type": "code",
   "execution_count": null,
   "id": "e138c88e",
   "metadata": {},
   "outputs": [],
   "source": [
    "data.info()"
   ]
  },
  {
   "cell_type": "code",
   "execution_count": null,
   "id": "d7303bc8",
   "metadata": {},
   "outputs": [],
   "source": [
    "data.describe()"
   ]
  },
  {
   "cell_type": "code",
   "execution_count": null,
   "id": "daa40253",
   "metadata": {},
   "outputs": [],
   "source": [
    "def missing (df1):\n",
    "    missing_number = df1.isnull().sum().sort_values(ascending=False)\n",
    "    missing_percent = ((df1.isnull().sum()/df1.isnull().count())*100).sort_values(ascending=False)\n",
    "    missing_values = pd.concat([missing_number, missing_percent], axis=1, keys=['Missing_Number', 'Missing_Percent'])\n",
    "    return missing_values"
   ]
  },
  {
   "cell_type": "code",
   "execution_count": null,
   "id": "83b08793",
   "metadata": {},
   "outputs": [],
   "source": [
    "data.isnull().sum()"
   ]
  },
  {
   "cell_type": "code",
   "execution_count": null,
   "id": "72bb0c29",
   "metadata": {},
   "outputs": [],
   "source": [
    "for i in data.columns:\n",
    "    if data[i].dtypes == 'object':\n",
    "        data[i].fillna(data[i].mode()[0], inplace=True)\n",
    "    else:\n",
    "        data[i].fillna(data[i].median(), inplace=True)\n",
    "print(data)"
   ]
  },
  {
   "cell_type": "code",
   "execution_count": null,
   "id": "af6e7810",
   "metadata": {},
   "outputs": [],
   "source": [
    "data.isnull().sum()"
   ]
  },
  {
   "cell_type": "code",
   "execution_count": null,
   "id": "b1a62eed",
   "metadata": {},
   "outputs": [],
   "source": [
    "data.head()"
   ]
  },
  {
   "cell_type": "code",
   "execution_count": null,
   "id": "da2e9a75",
   "metadata": {},
   "outputs": [],
   "source": [
    "# finding numerical data and categorical data in dataset\n",
    "numerical= data.drop(['TARGET'], axis=1).select_dtypes('number').columns\n",
    "\n",
    "categorical = data.select_dtypes('object').columns\n",
    "\n",
    "print(f'Numerical Columns:  {data[numerical].columns}')\n",
    "print('\\n')\n",
    "print(f'Categorical Columns: {data[categorical].columns}')"
   ]
  },
  {
   "cell_type": "code",
   "execution_count": null,
   "id": "760cf2e4",
   "metadata": {},
   "outputs": [],
   "source": [
    "sns.countplot(data.dtypes.map(str))\n",
    "plt.show()"
   ]
  },
  {
   "cell_type": "code",
   "execution_count": null,
   "id": "79f998bb",
   "metadata": {},
   "outputs": [],
   "source": [
    "# Import label encoder\n",
    "from sklearn import preprocessing\n",
    "\n",
    "# label_encoder object knows how to understand word labels.\n",
    "label_encoder = preprocessing.LabelEncoder()\n",
    "\n",
    "# Encode labels in column 'species'.\n",
    "data['NAME_INCOME_TYPE']= label_encoder.fit_transform(data['NAME_INCOME_TYPE'])\n",
    "\n",
    "data['NAME_INCOME_TYPE']"
   ]
  },
  {
   "cell_type": "code",
   "execution_count": null,
   "id": "2aa439e1",
   "metadata": {},
   "outputs": [],
   "source": [
    "# Import label encoder\n",
    "from sklearn import preprocessing\n",
    "\n",
    "# label_encoder object knows how to understand word labels.\n",
    "label_encoder = preprocessing.LabelEncoder()\n",
    "\n",
    "# Encode labels in column 'species'.\n",
    "data['ORGANIZATION_TYPE']= label_encoder.fit_transform(data['ORGANIZATION_TYPE'])\n",
    "\n",
    "data['ORGANIZATION_TYPE']"
   ]
  },
  {
   "cell_type": "code",
   "execution_count": null,
   "id": "ba211f37",
   "metadata": {},
   "outputs": [],
   "source": [
    "for col in data.columns:\n",
    "    if data[col].dtypes != object:\n",
    "        q1 = data[col].quantile(0.25)\n",
    "        q3 = data[col].quantile(0.75)\n",
    "        IQR = q3 - q1\n",
    "        llp = q1-1.5*IQR\n",
    "        ulp = q3+1.5*IQR\n",
    "        print('column name',col)\n",
    "        print('mean:',data[col].mean())\n",
    "        print('mode:',data[col].mode()[0])\n",
    "        print('median:', data[col].median())\n",
    "        print('skewness:',data[col].skew())\n",
    "        print('kurtosis:',data[col].kurtosis())\n",
    "        print('null_value count:',data[col].isnull().sum())\n",
    "        print('\\n')"
   ]
  },
  {
   "cell_type": "code",
   "execution_count": null,
   "id": "648efb31",
   "metadata": {},
   "outputs": [],
   "source": [
    "#checking outliers\n",
    "#Outlier Search: This helps you to get some insights about the outliers in the data.\n",
    "data.plot(kind='box', layout=(3,3),subplots=1,figsize=(25,11))\n",
    "plt.show()"
   ]
  },
  {
   "cell_type": "code",
   "execution_count": null,
   "id": "7e43b8c3",
   "metadata": {},
   "outputs": [],
   "source": [
    "count=1\n",
    "plt.subplots(figsize=(30,25))\n",
    "for i in data.columns:\n",
    "    if data[i].dtypes!='object':\n",
    "        plt.subplot(6,7,count)\n",
    "        sns.distplot(data[i])\n",
    "        count+=1\n",
    "\n",
    "plt.show()"
   ]
  },
  {
   "cell_type": "code",
   "execution_count": null,
   "id": "c0eda801",
   "metadata": {},
   "outputs": [],
   "source": [
    "cor = data.corr()\n",
    "cor"
   ]
  },
  {
   "cell_type": "code",
   "execution_count": null,
   "id": "2e4d0c1d",
   "metadata": {},
   "outputs": [],
   "source": [
    "ax = sns.heatmap(data.corr(), annot=True)\n",
    "plt.show()"
   ]
  },
  {
   "cell_type": "code",
   "execution_count": null,
   "id": "8a67125a",
   "metadata": {},
   "outputs": [],
   "source": [
    "X = data.drop(\"TARGET\",axis=1)\n",
    "y = data.TARGET"
   ]
  },
  {
   "cell_type": "code",
   "execution_count": null,
   "id": "7c2bfd78",
   "metadata": {},
   "outputs": [],
   "source": [
    "X.shape"
   ]
  },
  {
   "cell_type": "code",
   "execution_count": null,
   "id": "7a7ab856",
   "metadata": {},
   "outputs": [],
   "source": [
    "from sklearn.model_selection import train_test_split \n",
    "X_train,X_test,y_train,y_test=train_test_split(X,y,test_size=0.3,random_state=1)\n",
    "\n",
    "X_train.shape,X_test.shape"
   ]
  },
  {
   "cell_type": "code",
   "execution_count": null,
   "id": "d3131e0a",
   "metadata": {},
   "outputs": [],
   "source": [
    "# Applying random forest Classifier\n",
    "from sklearn.ensemble import RandomForestClassifier\n",
    "rf_Classifier = RandomForestClassifier(n_estimators = 10, random_state = 0)\n",
    "rf_Classifier.fit(X_train, y_train)"
   ]
  },
  {
   "cell_type": "code",
   "execution_count": null,
   "id": "4ea16e17",
   "metadata": {},
   "outputs": [],
   "source": [
    "y_pred = rf_Classifier.predict(X_test)\n",
    "y_pred"
   ]
  },
  {
   "cell_type": "code",
   "execution_count": null,
   "id": "73db8f08",
   "metadata": {},
   "outputs": [],
   "source": [
    "from sklearn.metrics import  confusion_matrix,accuracy_score\n",
    "cm=confusion_matrix(y_test,y_pred)\n",
    "print(cm)\n",
    "accuracy_score(y_test,y_pred)"
   ]
  },
  {
   "cell_type": "code",
   "execution_count": null,
   "id": "4586388c",
   "metadata": {},
   "outputs": [],
   "source": [
    "# Classification Report\n",
    "from sklearn.metrics import classification_report\n",
    "print(classification_report(y_test, y_pred))"
   ]
  },
  {
   "cell_type": "code",
   "execution_count": null,
   "id": "2aac1f23",
   "metadata": {},
   "outputs": [],
   "source": [
    "data.shape"
   ]
  },
  {
   "cell_type": "code",
   "execution_count": null,
   "id": "ac769c38",
   "metadata": {},
   "outputs": [],
   "source": [
    "X.shape"
   ]
  },
  {
   "cell_type": "code",
   "execution_count": null,
   "id": "12bb7c03",
   "metadata": {},
   "outputs": [],
   "source": [
    "y.shape"
   ]
  },
  {
   "cell_type": "code",
   "execution_count": null,
   "id": "dc6e1f65",
   "metadata": {},
   "outputs": [],
   "source": []
  }
 ],
 "metadata": {
  "kernelspec": {
   "display_name": "Python 3 (ipykernel)",
   "language": "python",
   "name": "python3"
  },
  "language_info": {
   "codemirror_mode": {
    "name": "ipython",
    "version": 3
   },
   "file_extension": ".py",
   "mimetype": "text/x-python",
   "name": "python",
   "nbconvert_exporter": "python",
   "pygments_lexer": "ipython3",
   "version": "3.9.17"
  }
 },
 "nbformat": 4,
 "nbformat_minor": 5
}
